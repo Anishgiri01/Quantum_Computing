{
 "cells": [
  {
   "cell_type": "markdown",
   "id": "1f50edf1-641d-4046-a919-291b5a4157e3",
   "metadata": {},
   "source": [
    "## Error Mitigation with Mitiq and PennyLane\n",
    "\n",
    "Source: Error mitigation with Mitiq and PennyLane, https://pennylane.ai/qml/demos/tutorial_error_mitigation.html"
   ]
  },
  {
   "cell_type": "code",
   "execution_count": null,
   "id": "491d3878",
   "metadata": {},
   "outputs": [],
   "source": []
  },
  {
   "cell_type": "code",
   "execution_count": null,
   "id": "7c98857d",
   "metadata": {},
   "outputs": [],
   "source": []
  },
  {
   "cell_type": "code",
   "execution_count": 4,
   "id": "01a9763e-35ca-4fd5-bab2-5f6df29f6447",
   "metadata": {},
   "outputs": [
    {
     "name": "stderr",
     "output_type": "stream",
     "text": [
      "/var/folders/01/nndx6y3j2pg4zrjy39pt2mqw0000gn/T/ipykernel_93987/972393195.py:23: DeprecationWarning: The module 'qiskit.test.mock' is deprecated since Qiskit Terra 0.21.0, and will be removed 3 months or more later. Instead, you should import the desired object directly 'qiskit.providers.fake_provider'.\n",
      "  from qiskit.test.mock import FakeLima\n"
     ]
    }
   ],
   "source": [
    "import collections\n",
    "import typing as t\n",
    "import os\n",
    "\n",
    "from icecream import ic\n",
    "\n",
    "# import orquestra.sdk as sdk\n",
    "# from orquestra.integrations.qiskit.runner import QiskitRunner\n",
    "# from orquestra.integrations.qiskit.runner import create_ibmq_runner\n",
    "\n",
    "import pennylane as qml\n",
    "from pennylane import numpy as np\n",
    "\n",
    "from mitiq.zne.scaling import fold_global\n",
    "from mitiq.zne.scaling import fold_gates_at_random as folding\n",
    "from mitiq.zne.inference import RichardsonFactory\n",
    "from mitiq.zne import execute_with_zne\n",
    "from mitiq.zne.inference import AdaExpFactory\n",
    "\n",
    "from pennylane.transforms import mitigate_with_zne\n",
    "from pennylane import qchem\n",
    "\n",
    "from qiskit.test.mock import FakeLima\n",
    "from qiskit.providers.aer.noise import NoiseModel"
   ]
  },
  {
   "cell_type": "code",
   "execution_count": null,
   "id": "ba37cfb0",
   "metadata": {},
   "outputs": [],
   "source": []
  },
  {
   "cell_type": "code",
   "execution_count": 5,
   "id": "aab6106a-d88a-414e-91fa-82fba97a2fde",
   "metadata": {},
   "outputs": [],
   "source": [
    "# loading the default.mixed simulator and artificially adding PhaseDamping noise:\n",
    "import pennylane as qml\n",
    "\n",
    "n_wires = 4\n",
    "\n",
    "\n",
    "# Describe noise\n",
    "noise_gate = qml.PhaseDamping\n",
    "noise_strength = 0.2\n",
    "\n",
    "# Load devices\n",
    "dev_ideal = qml.device(\"default.mixed\", wires=n_wires)\n",
    "dev_noisy = qml.transforms.insert(noise_gate, noise_strength)(dev_ideal)"
   ]
  },
  {
   "cell_type": "code",
   "execution_count": 38,
   "id": "49bde8c6-9ea1-431c-8d25-fa0da61d0f62",
   "metadata": {},
   "outputs": [],
   "source": [
    "# define a mirror circuit: let’s fix a circuit that applies a unitary 𝑈 \n",
    "# followed by its inverse 𝑈†\n",
    " \n",
    "from pennylane import numpy as np\n",
    "\n",
    "np.random.seed(1967)\n",
    "\n",
    "# Select template to use within circuit and generate parameters\n",
    "n_layers = 3\n",
    "template = qml.SimplifiedTwoDesign\n",
    "weights_shape = template.shape(n_layers, n_wires)\n",
    "w1, w2 = [2 * np.pi * np.random.random(s) for s in weights_shape]\n",
    "\n",
    "def circuit(w1, w2):\n",
    "    template(w1, w2, wires=range(n_wires))\n",
    "    qml.adjoint(template)(w1, w2, wires=range(n_wires))\n",
    "    return qml.expval(qml.PauliZ(0))\n",
    "\n",
    "ideal_qnode = qml.QNode(circuit, dev_ideal)\n",
    "noisy_qnode = qml.QNode(circuit, dev_noisy)"
   ]
  },
  {
   "cell_type": "code",
   "execution_count": 39,
   "id": "90bb8fa3-322c-42de-9cdc-138aee6fc7db",
   "metadata": {},
   "outputs": [
    {
     "name": "stdout",
     "output_type": "stream",
     "text": [
      "0: ──RY(4.56)─╭●──RY(5.93)──────────────╭●──RY(4.23)──────────────╭●──RY(2.59)──RY(2.59)†──────────\n",
      "1: ──RY(3.60)─╰Z──RY(5.90)─╭●──RY(5.18)─╰Z──RY(2.79)─╭●──RY(5.59)─╰Z──RY(0.98)─╭●──────────RY(6.28)\n",
      "2: ──RY(4.05)─╭●──RY(3.32)─╰Z──RY(1.07)─╭●──RY(3.64)─╰Z──RY(3.02)─╭●──RY(5.44)─╰Z──────────RY(6.24)\n",
      "3: ──RY(3.51)─╰Z──RY(3.66)──────────────╰Z──RY(0.15)──────────────╰Z──RY(2.93)──RY(2.93)†──────────\n",
      "\n",
      "────────────────────────────╭●───RY(4.23)†────────────────╭●───RY(5.93)†────────────────╭●─\n",
      "───RY(6.28)†─╭●───RY(0.98)†─╰Z†──RY(5.59)†─╭●───RY(2.79)†─╰Z†──RY(5.18)†─╭●───RY(5.90)†─╰Z†\n",
      "───RY(6.24)†─╰Z†──RY(5.44)†─╭●───RY(3.02)†─╰Z†──RY(3.64)†─╭●───RY(1.07)†─╰Z†──RY(3.32)†─╭●─\n",
      "────────────────────────────╰Z†──RY(0.15)†────────────────╰Z†──RY(3.66)†────────────────╰Z†\n",
      "\n",
      "───RY(4.56)†─┤  <Z>\n",
      "───RY(3.60)†─┤     \n",
      "───RY(4.05)†─┤     \n",
      "───RY(3.51)†─┤     \n"
     ]
    }
   ],
   "source": [
    "print(qml.draw(ideal_qnode, expansion_strategy=\"device\")(w1, w2))"
   ]
  },
  {
   "cell_type": "code",
   "execution_count": 40,
   "id": "923379e9-eea1-4279-a166-772a9e8f3f88",
   "metadata": {},
   "outputs": [
    {
     "data": {
      "text/plain": [
       "tensor(1., requires_grad=True)"
      ]
     },
     "execution_count": 40,
     "metadata": {},
     "output_type": "execute_result"
    }
   ],
   "source": [
    "ideal_qnode(w1, w2)"
   ]
  },
  {
   "cell_type": "code",
   "execution_count": 41,
   "id": "52d01b3c-018c-4bb2-9ab2-65cabb7553b3",
   "metadata": {},
   "outputs": [
    {
     "data": {
      "text/plain": [
       "array(0.1754)"
      ]
     },
     "execution_count": 41,
     "metadata": {},
     "output_type": "execute_result"
    }
   ],
   "source": [
    "noisy_qnode(w1, w2)"
   ]
  },
  {
   "cell_type": "markdown",
   "id": "fafbf84c-4f3e-4d70-8f7b-2cd01b910824",
   "metadata": {},
   "source": [
    "### Note: Convert our PennyLane circuits to OpenQASM 2.0, which is used as an intermediate representation when working with Mitiq via 'pip install pennylane-qiskit'."
   ]
  },
  {
   "cell_type": "code",
   "execution_count": null,
   "id": "74c76883",
   "metadata": {},
   "outputs": [],
   "source": []
  },
  {
   "cell_type": "code",
   "execution_count": 42,
   "id": "81786e51-0316-43e5-85f2-3f36ab6fd0e9",
   "metadata": {},
   "outputs": [
    {
     "data": {
      "text/plain": [
       "1.0243999999999924"
      ]
     },
     "execution_count": 42,
     "metadata": {},
     "output_type": "execute_result"
    }
   ],
   "source": [
    "# perform zero-noise extrapolation with Richardson extrapolation:\n",
    "\n",
    "from mitiq.zne.scaling import fold_global\n",
    "from mitiq.zne.inference import RichardsonFactory\n",
    "from pennylane.transforms import mitigate_with_zne\n",
    "\n",
    "extrapolate = RichardsonFactory.extrapolate\n",
    "scale_factors = [1, 2, 3, 4, 5]\n",
    "\n",
    "mitigated_qnode = mitigate_with_zne(scale_factors, fold_global, extrapolate)(\n",
    "    noisy_qnode\n",
    ")\n",
    "mitigated_qnode(w1, w2)"
   ]
  },
  {
   "cell_type": "code",
   "execution_count": 43,
   "id": "2c8ae150-894e-485a-8773-d7a6f7e167b7",
   "metadata": {},
   "outputs": [],
   "source": [
    "# apply unitary folding to scale the amount of noise in the expanded circuit:\n",
    "with qml.tape.QuantumTape() as circuit:\n",
    "    template(w1, w2, wires=range(n_wires))\n",
    "    qml.adjoint(template)(w1, w2, wires=range(n_wires))"
   ]
  },
  {
   "cell_type": "code",
   "execution_count": 44,
   "id": "2529aad4-c31e-4a69-931e-ad832b52d4ee",
   "metadata": {},
   "outputs": [
    {
     "name": "stdout",
     "output_type": "stream",
     "text": [
      "Globally-folded circuit with a scale factor of 1:\n",
      "0: ──RY(4.56)─╭●──RY(5.93)──────────────╭●──RY(4.23)──────────────╭●──RY(2.59)\n",
      "1: ──RY(3.60)─╰Z──RY(5.90)─╭●──RY(5.18)─╰Z──RY(2.79)─╭●──RY(5.59)─╰Z──RY(0.98)\n",
      "2: ──RY(4.05)─╭●──RY(3.32)─╰Z──RY(1.07)─╭●──RY(3.64)─╰Z──RY(3.02)─╭●──RY(5.44)\n",
      "3: ──RY(3.51)─╰Z──RY(3.66)──────────────╰Z──RY(0.15)──────────────╰Z──RY(2.93)\n",
      "\n",
      "───RY(-2.59)────────────────────────────────────╭●──RY(-4.23)───────────────╭●\n",
      "──╭●──────────RY(6.28)──RY(-6.28)─╭●──RY(-0.98)─╰Z──RY(-5.59)─╭●──RY(-2.79)─╰Z\n",
      "──╰Z──────────RY(6.24)──RY(-6.24)─╰Z──RY(-5.44)─╭●──RY(-3.02)─╰Z──RY(-3.64)─╭●\n",
      "───RY(-2.93)────────────────────────────────────╰Z──RY(-0.15)───────────────╰Z\n",
      "\n",
      "───RY(-5.93)───────────────╭●──RY(-4.56)─┤  \n",
      "───RY(-5.18)─╭●──RY(-5.90)─╰Z──RY(-3.60)─┤  \n",
      "───RY(-1.07)─╰Z──RY(-3.32)─╭●──RY(-4.05)─┤  \n",
      "───RY(-3.66)───────────────╰Z──RY(-3.51)─┤  \n",
      "\n",
      "Globally-folded circuit with a scale factor of 2:\n",
      "0: ──RY(4.56)─╭●──RY(5.93)──────────────╭●──RY(4.23)──────────────╭●──RY(2.59)\n",
      "1: ──RY(3.60)─╰Z──RY(5.90)─╭●──RY(5.18)─╰Z──RY(2.79)─╭●──RY(5.59)─╰Z──RY(0.98)\n",
      "2: ──RY(4.05)─╭●──RY(3.32)─╰Z──RY(1.07)─╭●──RY(3.64)─╰Z──RY(3.02)─╭●──RY(5.44)\n",
      "3: ──RY(3.51)─╰Z──RY(3.66)──────────────╰Z──RY(0.15)──────────────╰Z──RY(2.93)\n",
      "\n",
      "───RY(-2.59)────────────────────────────────────╭●──RY(-4.23)───────────────╭●\n",
      "──╭●──────────RY(6.28)──RY(-6.28)─╭●──RY(-0.98)─╰Z──RY(-5.59)─╭●──RY(-2.79)─╰Z\n",
      "──╰Z──────────RY(6.24)──RY(-6.24)─╰Z──RY(-5.44)─╭●──RY(-3.02)─╰Z──RY(-3.64)─╭●\n",
      "───RY(-2.93)────────────────────────────────────╰Z──RY(-0.15)───────────────╰Z\n",
      "\n",
      "───RY(-5.93)───────────────╭●──RY(-4.56)──RY(4.56)─╭●──RY(5.93)──────────────╭●\n",
      "───RY(-5.18)─╭●──RY(-5.90)─╰Z──RY(-3.60)──RY(3.60)─╰Z──RY(5.90)─╭●──RY(5.18)─╰Z\n",
      "───RY(-1.07)─╰Z──RY(-3.32)─╭●──RY(-4.05)──RY(4.05)─╭●──RY(3.32)─╰Z──RY(1.07)─╭●\n",
      "───RY(-3.66)───────────────╰Z──RY(-3.51)──RY(3.51)─╰Z──RY(3.66)──────────────╰Z\n",
      "\n",
      "───RY(4.23)──────────────╭●────────────────────────────────────────────\n",
      "───RY(2.79)─╭●──RY(5.59)─╰Z──RY(0.98)─╭●──RY(6.28)──RY(-6.28)──RY(6.28)\n",
      "───RY(3.64)─╰Z──RY(3.02)─╭●──RY(5.44)─╰Z──RY(6.24)──RY(-6.24)──RY(6.24)\n",
      "───RY(0.15)──────────────╰Z────────────────────────────────────────────\n",
      "\n",
      "───────────────────────────╭●──RY(-4.23)───────────────╭●──RY(-5.93)───\n",
      "───RY(-6.28)─╭●──RY(-0.98)─╰Z──RY(-5.59)─╭●──RY(-2.79)─╰Z──RY(-5.18)─╭●\n",
      "───RY(-6.24)─╰Z──RY(-5.44)─╭●──RY(-3.02)─╰Z──RY(-3.64)─╭●──RY(-1.07)─╰Z\n",
      "───────────────────────────╰Z──RY(-0.15)───────────────╰Z──RY(-3.66)───\n",
      "\n",
      "─────────────╭●──RY(-4.56)─┤  \n",
      "───RY(-5.90)─╰Z──RY(-3.60)─┤  \n",
      "───RY(-3.32)─╭●──RY(-4.05)─┤  \n",
      "─────────────╰Z──RY(-3.51)─┤  \n",
      "\n",
      "Globally-folded circuit with a scale factor of 3:\n",
      "0: ──RY(4.56)─╭●──RY(5.93)──────────────╭●──RY(4.23)──────────────╭●──RY(2.59)\n",
      "1: ──RY(3.60)─╰Z──RY(5.90)─╭●──RY(5.18)─╰Z──RY(2.79)─╭●──RY(5.59)─╰Z──RY(0.98)\n",
      "2: ──RY(4.05)─╭●──RY(3.32)─╰Z──RY(1.07)─╭●──RY(3.64)─╰Z──RY(3.02)─╭●──RY(5.44)\n",
      "3: ──RY(3.51)─╰Z──RY(3.66)──────────────╰Z──RY(0.15)──────────────╰Z──RY(2.93)\n",
      "\n",
      "───RY(-2.59)────────────────────────────────────╭●──RY(-4.23)───────────────╭●\n",
      "──╭●──────────RY(6.28)──RY(-6.28)─╭●──RY(-0.98)─╰Z──RY(-5.59)─╭●──RY(-2.79)─╰Z\n",
      "──╰Z──────────RY(6.24)──RY(-6.24)─╰Z──RY(-5.44)─╭●──RY(-3.02)─╰Z──RY(-3.64)─╭●\n",
      "───RY(-2.93)────────────────────────────────────╰Z──RY(-0.15)───────────────╰Z\n",
      "\n",
      "───RY(-5.93)───────────────╭●──RY(-4.56)──RY(4.56)─╭●──RY(5.93)──────────────╭●\n",
      "───RY(-5.18)─╭●──RY(-5.90)─╰Z──RY(-3.60)──RY(3.60)─╰Z──RY(5.90)─╭●──RY(5.18)─╰Z\n",
      "───RY(-1.07)─╰Z──RY(-3.32)─╭●──RY(-4.05)──RY(4.05)─╭●──RY(3.32)─╰Z──RY(1.07)─╭●\n",
      "───RY(-3.66)───────────────╰Z──RY(-3.51)──RY(3.51)─╰Z──RY(3.66)──────────────╰Z\n",
      "\n",
      "───RY(4.23)──────────────╭●──RY(2.59)──RY(-2.59)────────────────────────\n",
      "───RY(2.79)─╭●──RY(5.59)─╰Z──RY(0.98)─╭●──────────RY(6.28)──RY(-6.28)─╭●\n",
      "───RY(3.64)─╰Z──RY(3.02)─╭●──RY(5.44)─╰Z──────────RY(6.24)──RY(-6.24)─╰Z\n",
      "───RY(0.15)──────────────╰Z──RY(2.93)──RY(-2.93)────────────────────────\n",
      "\n",
      "─────────────╭●──RY(-4.23)───────────────╭●──RY(-5.93)───────────────╭●\n",
      "───RY(-0.98)─╰Z──RY(-5.59)─╭●──RY(-2.79)─╰Z──RY(-5.18)─╭●──RY(-5.90)─╰Z\n",
      "───RY(-5.44)─╭●──RY(-3.02)─╰Z──RY(-3.64)─╭●──RY(-1.07)─╰Z──RY(-3.32)─╭●\n",
      "─────────────╰Z──RY(-0.15)───────────────╰Z──RY(-3.66)───────────────╰Z\n",
      "\n",
      "───RY(-4.56)──RY(4.56)─╭●──RY(5.93)──────────────╭●──RY(4.23)──────────────╭●\n",
      "───RY(-3.60)──RY(3.60)─╰Z──RY(5.90)─╭●──RY(5.18)─╰Z──RY(2.79)─╭●──RY(5.59)─╰Z\n",
      "───RY(-4.05)──RY(4.05)─╭●──RY(3.32)─╰Z──RY(1.07)─╭●──RY(3.64)─╰Z──RY(3.02)─╭●\n",
      "───RY(-3.51)──RY(3.51)─╰Z──RY(3.66)──────────────╰Z──RY(0.15)──────────────╰Z\n",
      "\n",
      "───RY(2.59)──RY(-2.59)────────────────────────────────────╭●──RY(-4.23)───\n",
      "───RY(0.98)─╭●──────────RY(6.28)──RY(-6.28)─╭●──RY(-0.98)─╰Z──RY(-5.59)─╭●\n",
      "───RY(5.44)─╰Z──────────RY(6.24)──RY(-6.24)─╰Z──RY(-5.44)─╭●──RY(-3.02)─╰Z\n",
      "───RY(2.93)──RY(-2.93)────────────────────────────────────╰Z──RY(-0.15)───\n",
      "\n",
      "─────────────╭●──RY(-5.93)───────────────╭●──RY(-4.56)─┤  \n",
      "───RY(-2.79)─╰Z──RY(-5.18)─╭●──RY(-5.90)─╰Z──RY(-3.60)─┤  \n",
      "───RY(-3.64)─╭●──RY(-1.07)─╰Z──RY(-3.32)─╭●──RY(-4.05)─┤  \n",
      "─────────────╰Z──RY(-3.66)───────────────╰Z──RY(-3.51)─┤  \n",
      "\n",
      "Globally-folded circuit with a scale factor of 4:\n",
      "0: ──RY(4.56)─╭●──RY(5.93)──────────────╭●──RY(4.23)──────────────╭●──RY(2.59)\n",
      "1: ──RY(3.60)─╰Z──RY(5.90)─╭●──RY(5.18)─╰Z──RY(2.79)─╭●──RY(5.59)─╰Z──RY(0.98)\n",
      "2: ──RY(4.05)─╭●──RY(3.32)─╰Z──RY(1.07)─╭●──RY(3.64)─╰Z──RY(3.02)─╭●──RY(5.44)\n",
      "3: ──RY(3.51)─╰Z──RY(3.66)──────────────╰Z──RY(0.15)──────────────╰Z──RY(2.93)\n",
      "\n",
      "───RY(-2.59)────────────────────────────────────╭●──RY(-4.23)───────────────╭●\n",
      "──╭●──────────RY(6.28)──RY(-6.28)─╭●──RY(-0.98)─╰Z──RY(-5.59)─╭●──RY(-2.79)─╰Z\n",
      "──╰Z──────────RY(6.24)──RY(-6.24)─╰Z──RY(-5.44)─╭●──RY(-3.02)─╰Z──RY(-3.64)─╭●\n",
      "───RY(-2.93)────────────────────────────────────╰Z──RY(-0.15)───────────────╰Z\n",
      "\n",
      "───RY(-5.93)───────────────╭●──RY(-4.56)──RY(4.56)─╭●──RY(5.93)──────────────╭●\n",
      "───RY(-5.18)─╭●──RY(-5.90)─╰Z──RY(-3.60)──RY(3.60)─╰Z──RY(5.90)─╭●──RY(5.18)─╰Z\n",
      "───RY(-1.07)─╰Z──RY(-3.32)─╭●──RY(-4.05)──RY(4.05)─╭●──RY(3.32)─╰Z──RY(1.07)─╭●\n",
      "───RY(-3.66)───────────────╰Z──RY(-3.51)──RY(3.51)─╰Z──RY(3.66)──────────────╰Z\n",
      "\n",
      "───RY(4.23)──────────────╭●──RY(2.59)──RY(-2.59)────────────────────────\n",
      "───RY(2.79)─╭●──RY(5.59)─╰Z──RY(0.98)─╭●──────────RY(6.28)──RY(-6.28)─╭●\n",
      "───RY(3.64)─╰Z──RY(3.02)─╭●──RY(5.44)─╰Z──────────RY(6.24)──RY(-6.24)─╰Z\n",
      "───RY(0.15)──────────────╰Z──RY(2.93)──RY(-2.93)────────────────────────\n",
      "\n",
      "─────────────╭●──RY(-4.23)───────────────╭●──RY(-5.93)───────────────╭●\n",
      "───RY(-0.98)─╰Z──RY(-5.59)─╭●──RY(-2.79)─╰Z──RY(-5.18)─╭●──RY(-5.90)─╰Z\n",
      "───RY(-5.44)─╭●──RY(-3.02)─╰Z──RY(-3.64)─╭●──RY(-1.07)─╰Z──RY(-3.32)─╭●\n",
      "─────────────╰Z──RY(-0.15)───────────────╰Z──RY(-3.66)───────────────╰Z\n",
      "\n",
      "───RY(-4.56)──RY(4.56)─╭●──RY(5.93)──────────────╭●──RY(4.23)──────────────╭●\n",
      "───RY(-3.60)──RY(3.60)─╰Z──RY(5.90)─╭●──RY(5.18)─╰Z──RY(2.79)─╭●──RY(5.59)─╰Z\n",
      "───RY(-4.05)──RY(4.05)─╭●──RY(3.32)─╰Z──RY(1.07)─╭●──RY(3.64)─╰Z──RY(3.02)─╭●\n",
      "───RY(-3.51)──RY(3.51)─╰Z──RY(3.66)──────────────╰Z──RY(0.15)──────────────╰Z\n",
      "\n",
      "───RY(2.59)──RY(-2.59)────────────────────────────────────╭●──RY(-4.23)───\n",
      "───RY(0.98)─╭●──────────RY(6.28)──RY(-6.28)─╭●──RY(-0.98)─╰Z──RY(-5.59)─╭●\n",
      "───RY(5.44)─╰Z──────────RY(6.24)──RY(-6.24)─╰Z──RY(-5.44)─╭●──RY(-3.02)─╰Z\n",
      "───RY(2.93)──RY(-2.93)────────────────────────────────────╰Z──RY(-0.15)───\n",
      "\n",
      "─────────────╭●──RY(-5.93)───────────────╭●──RY(-4.56)──RY(4.56)─╭●──RY(5.93)───\n",
      "───RY(-2.79)─╰Z──RY(-5.18)─╭●──RY(-5.90)─╰Z──RY(-3.60)──RY(3.60)─╰Z──RY(5.90)─╭●\n",
      "───RY(-3.64)─╭●──RY(-1.07)─╰Z──RY(-3.32)─╭●──RY(-4.05)──RY(4.05)─╭●──RY(3.32)─╰Z\n",
      "─────────────╰Z──RY(-3.66)───────────────╰Z──RY(-3.51)──RY(3.51)─╰Z──RY(3.66)───\n",
      "\n",
      "────────────╭●──RY(4.23)──────────────╭●──────────────────────────────────\n",
      "───RY(5.18)─╰Z──RY(2.79)─╭●──RY(5.59)─╰Z──RY(0.98)─╭●──RY(6.28)──RY(-6.28)\n",
      "───RY(1.07)─╭●──RY(3.64)─╰Z──RY(3.02)─╭●──RY(5.44)─╰Z──RY(6.24)──RY(-6.24)\n",
      "────────────╰Z──RY(0.15)──────────────╰Z──────────────────────────────────\n",
      "\n",
      "─────────────────────────────────────╭●──RY(-4.23)───────────────╭●──RY(-5.93)\n",
      "───RY(6.28)──RY(-6.28)─╭●──RY(-0.98)─╰Z──RY(-5.59)─╭●──RY(-2.79)─╰Z──RY(-5.18)\n",
      "───RY(6.24)──RY(-6.24)─╰Z──RY(-5.44)─╭●──RY(-3.02)─╰Z──RY(-3.64)─╭●──RY(-1.07)\n",
      "─────────────────────────────────────╰Z──RY(-0.15)───────────────╰Z──RY(-3.66)\n",
      "\n",
      "────────────────╭●──RY(-4.56)─┤  \n",
      "──╭●──RY(-5.90)─╰Z──RY(-3.60)─┤  \n",
      "──╰Z──RY(-3.32)─╭●──RY(-4.05)─┤  \n",
      "────────────────╰Z──RY(-3.51)─┤  \n",
      "\n",
      "Globally-folded circuit with a scale factor of 5:\n",
      "0: ──RY(4.56)─╭●──RY(5.93)──────────────╭●──RY(4.23)──────────────╭●──RY(2.59)\n",
      "1: ──RY(3.60)─╰Z──RY(5.90)─╭●──RY(5.18)─╰Z──RY(2.79)─╭●──RY(5.59)─╰Z──RY(0.98)\n",
      "2: ──RY(4.05)─╭●──RY(3.32)─╰Z──RY(1.07)─╭●──RY(3.64)─╰Z──RY(3.02)─╭●──RY(5.44)\n",
      "3: ──RY(3.51)─╰Z──RY(3.66)──────────────╰Z──RY(0.15)──────────────╰Z──RY(2.93)\n",
      "\n",
      "───RY(-2.59)────────────────────────────────────╭●──RY(-4.23)───────────────╭●\n",
      "──╭●──────────RY(6.28)──RY(-6.28)─╭●──RY(-0.98)─╰Z──RY(-5.59)─╭●──RY(-2.79)─╰Z\n",
      "──╰Z──────────RY(6.24)──RY(-6.24)─╰Z──RY(-5.44)─╭●──RY(-3.02)─╰Z──RY(-3.64)─╭●\n",
      "───RY(-2.93)────────────────────────────────────╰Z──RY(-0.15)───────────────╰Z\n",
      "\n",
      "───RY(-5.93)───────────────╭●──RY(-4.56)──RY(4.56)─╭●──RY(5.93)──────────────╭●\n",
      "───RY(-5.18)─╭●──RY(-5.90)─╰Z──RY(-3.60)──RY(3.60)─╰Z──RY(5.90)─╭●──RY(5.18)─╰Z\n",
      "───RY(-1.07)─╰Z──RY(-3.32)─╭●──RY(-4.05)──RY(4.05)─╭●──RY(3.32)─╰Z──RY(1.07)─╭●\n",
      "───RY(-3.66)───────────────╰Z──RY(-3.51)──RY(3.51)─╰Z──RY(3.66)──────────────╰Z\n",
      "\n",
      "───RY(4.23)──────────────╭●──RY(2.59)──RY(-2.59)────────────────────────\n",
      "───RY(2.79)─╭●──RY(5.59)─╰Z──RY(0.98)─╭●──────────RY(6.28)──RY(-6.28)─╭●\n",
      "───RY(3.64)─╰Z──RY(3.02)─╭●──RY(5.44)─╰Z──────────RY(6.24)──RY(-6.24)─╰Z\n",
      "───RY(0.15)──────────────╰Z──RY(2.93)──RY(-2.93)────────────────────────\n",
      "\n",
      "─────────────╭●──RY(-4.23)───────────────╭●──RY(-5.93)───────────────╭●\n",
      "───RY(-0.98)─╰Z──RY(-5.59)─╭●──RY(-2.79)─╰Z──RY(-5.18)─╭●──RY(-5.90)─╰Z\n",
      "───RY(-5.44)─╭●──RY(-3.02)─╰Z──RY(-3.64)─╭●──RY(-1.07)─╰Z──RY(-3.32)─╭●\n",
      "─────────────╰Z──RY(-0.15)───────────────╰Z──RY(-3.66)───────────────╰Z\n",
      "\n",
      "───RY(-4.56)──RY(4.56)─╭●──RY(5.93)──────────────╭●──RY(4.23)──────────────╭●\n",
      "───RY(-3.60)──RY(3.60)─╰Z──RY(5.90)─╭●──RY(5.18)─╰Z──RY(2.79)─╭●──RY(5.59)─╰Z\n",
      "───RY(-4.05)──RY(4.05)─╭●──RY(3.32)─╰Z──RY(1.07)─╭●──RY(3.64)─╰Z──RY(3.02)─╭●\n",
      "───RY(-3.51)──RY(3.51)─╰Z──RY(3.66)──────────────╰Z──RY(0.15)──────────────╰Z\n",
      "\n",
      "───RY(2.59)──RY(-2.59)────────────────────────────────────╭●──RY(-4.23)───\n",
      "───RY(0.98)─╭●──────────RY(6.28)──RY(-6.28)─╭●──RY(-0.98)─╰Z──RY(-5.59)─╭●\n",
      "───RY(5.44)─╰Z──────────RY(6.24)──RY(-6.24)─╰Z──RY(-5.44)─╭●──RY(-3.02)─╰Z\n",
      "───RY(2.93)──RY(-2.93)────────────────────────────────────╰Z──RY(-0.15)───\n",
      "\n",
      "─────────────╭●──RY(-5.93)───────────────╭●──RY(-4.56)──RY(4.56)─╭●──RY(5.93)───\n",
      "───RY(-2.79)─╰Z──RY(-5.18)─╭●──RY(-5.90)─╰Z──RY(-3.60)──RY(3.60)─╰Z──RY(5.90)─╭●\n",
      "───RY(-3.64)─╭●──RY(-1.07)─╰Z──RY(-3.32)─╭●──RY(-4.05)──RY(4.05)─╭●──RY(3.32)─╰Z\n",
      "─────────────╰Z──RY(-3.66)───────────────╰Z──RY(-3.51)──RY(3.51)─╰Z──RY(3.66)───\n",
      "\n",
      "────────────╭●──RY(4.23)──────────────╭●──RY(2.59)──RY(-2.59)──────────\n",
      "───RY(5.18)─╰Z──RY(2.79)─╭●──RY(5.59)─╰Z──RY(0.98)─╭●──────────RY(6.28)\n",
      "───RY(1.07)─╭●──RY(3.64)─╰Z──RY(3.02)─╭●──RY(5.44)─╰Z──────────RY(6.24)\n",
      "────────────╰Z──RY(0.15)──────────────╰Z──RY(2.93)──RY(-2.93)──────────\n",
      "\n",
      "───────────────────────────╭●──RY(-4.23)───────────────╭●──RY(-5.93)───\n",
      "───RY(-6.28)─╭●──RY(-0.98)─╰Z──RY(-5.59)─╭●──RY(-2.79)─╰Z──RY(-5.18)─╭●\n",
      "───RY(-6.24)─╰Z──RY(-5.44)─╭●──RY(-3.02)─╰Z──RY(-3.64)─╭●──RY(-1.07)─╰Z\n",
      "───────────────────────────╰Z──RY(-0.15)───────────────╰Z──RY(-3.66)───\n",
      "\n",
      "─────────────╭●──RY(-4.56)──RY(4.56)─╭●──RY(5.93)──────────────╭●──RY(4.23)───\n",
      "───RY(-5.90)─╰Z──RY(-3.60)──RY(3.60)─╰Z──RY(5.90)─╭●──RY(5.18)─╰Z──RY(2.79)─╭●\n",
      "───RY(-3.32)─╭●──RY(-4.05)──RY(4.05)─╭●──RY(3.32)─╰Z──RY(1.07)─╭●──RY(3.64)─╰Z\n",
      "─────────────╰Z──RY(-3.51)──RY(3.51)─╰Z──RY(3.66)──────────────╰Z──RY(0.15)───\n",
      "\n",
      "────────────╭●──RY(2.59)──RY(-2.59)────────────────────────────────────╭●\n",
      "───RY(5.59)─╰Z──RY(0.98)─╭●──────────RY(6.28)──RY(-6.28)─╭●──RY(-0.98)─╰Z\n",
      "───RY(3.02)─╭●──RY(5.44)─╰Z──────────RY(6.24)──RY(-6.24)─╰Z──RY(-5.44)─╭●\n",
      "────────────╰Z──RY(2.93)──RY(-2.93)────────────────────────────────────╰Z\n",
      "\n",
      "───RY(-4.23)───────────────╭●──RY(-5.93)───────────────╭●──RY(-4.56)─┤  \n",
      "───RY(-5.59)─╭●──RY(-2.79)─╰Z──RY(-5.18)─╭●──RY(-5.90)─╰Z──RY(-3.60)─┤  \n",
      "───RY(-3.02)─╰Z──RY(-3.64)─╭●──RY(-1.07)─╰Z──RY(-3.32)─╭●──RY(-4.05)─┤  \n",
      "───RY(-0.15)───────────────╰Z──RY(-3.66)───────────────╰Z──RY(-3.51)─┤  \n",
      "\n"
     ]
    }
   ],
   "source": [
    "scale_factors = [1, 2, 3,4,5]\n",
    "folded_circuits = [fold_global(circuit, scale_factor=s) for s in scale_factors]\n",
    "\n",
    "for s, c in zip(scale_factors, folded_circuits):\n",
    "    print(f\"Globally-folded circuit with a scale factor of {s}:\")\n",
    "    print(qml.drawer.tape_text(c, decimals=2, max_length=80))\n",
    "    print()"
   ]
  },
  {
   "cell_type": "code",
   "execution_count": 45,
   "id": "bb83d06a-5e9f-43a1-aeb0-cee118f1f4c2",
   "metadata": {},
   "outputs": [],
   "source": [
    "# define an executor function that adds the PauliZ measurement onto the first qubit \n",
    "# of each input circuit and then runs the circuits on a target device:\n",
    "def executor(circuits, dev=dev_noisy):\n",
    "    # Support both a single circuit and multiple circuit execution\n",
    "    circuits = [circuits] if isinstance(circuits, qml.tape.QuantumTape) else circuits\n",
    "\n",
    "    circuits_with_meas = []\n",
    "\n",
    "    # Loop through circuits and add on measurement\n",
    "    for c in circuits:\n",
    "        with qml.tape.QuantumTape() as circuit_with_meas:\n",
    "            for o in c.operations:\n",
    "                qml.apply(o)\n",
    "            qml.expval(qml.PauliZ(0))\n",
    "        circuits_with_meas.append(circuit_with_meas)\n",
    "\n",
    "    return qml.execute(circuits_with_meas, dev, gradient_fn=None)"
   ]
  },
  {
   "cell_type": "code",
   "execution_count": 47,
   "id": "3cac7cd1-afd2-4214-ada1-8c6b85414ddb",
   "metadata": {},
   "outputs": [
    {
     "data": {
      "text/plain": [
       "[array(1.), array(1.), array(1.), array(1.), array(1.)]"
      ]
     },
     "execution_count": 47,
     "metadata": {},
     "output_type": "execute_result"
    }
   ],
   "source": [
    "executor(folded_circuits, dev=dev_ideal) "
   ]
  },
  {
   "cell_type": "code",
   "execution_count": 30,
   "id": "f0b55bdf",
   "metadata": {},
   "outputs": [],
   "source": [
    "# First run: [tensor(0.71729164, requires_grad=True),\n",
    "# tensor(0.54368629, requires_grad=True),\n",
    "# tensor(0.3777036, requires_grad=True)]\n",
    "\n",
    "#Second run (noise factor 0.2, scale factor [1,2,3,4,5] ): \n",
    "# [tensor(0.5007169, requires_grad=True),\n",
    "#  tensor(0.287184, requires_grad=True),\n",
    "#  tensor(0.1371938, requires_grad=True),\n",
    "#  tensor(0.0832677, requires_grad=True),\n",
    "#  tensor(0.04401553, requires_grad=True)]\n",
    "\n",
    "#Third run for n_layer = 2:\n",
    "# tensor(1., requires_grad=True),\n",
    "# tensor(1., requires_grad=True),\n",
    "# tensor(1., requires_grad=True),\n",
    "# tensor(1., requires_grad=True)]\n",
    "\n",
    "#Forth run n_layer = 3:\n",
    "#[array(1.), array(1.), array(1.), array(1.), array(1.)] : I am quite confused why I am getting array instead of tensor this time.\n",
    "\n"
   ]
  },
  {
   "cell_type": "code",
   "execution_count": 48,
   "id": "7d08b0cb-39ee-4f2d-8ad4-67c62af562b4",
   "metadata": {},
   "outputs": [
    {
     "ename": "IndexError",
     "evalue": "invalid index to scalar variable.",
     "output_type": "error",
     "traceback": [
      "\u001b[0;31m---------------------------------------------------------------------------\u001b[0m",
      "\u001b[0;31mIndexError\u001b[0m                                Traceback (most recent call last)",
      "Cell \u001b[0;32mIn[48], line 17\u001b[0m\n\u001b[1;32m     14\u001b[0m \u001b[38;5;66;03m# Run extrapolation\u001b[39;00m\n\u001b[1;32m     15\u001b[0m zero_noise \u001b[38;5;241m=\u001b[39m fac\u001b[38;5;241m.\u001b[39mreduce()\n\u001b[0;32m---> 17\u001b[0m \u001b[38;5;28mprint\u001b[39m(\u001b[38;5;124mf\u001b[39m\u001b[38;5;124m\"\u001b[39m\u001b[38;5;124mZNE result: \u001b[39m\u001b[38;5;132;01m{\u001b[39;00m\u001b[43mzero_noise\u001b[49m\u001b[43m[\u001b[49m\u001b[38;5;241;43m0\u001b[39;49m\u001b[43m]\u001b[49m\u001b[38;5;132;01m}\u001b[39;00m\u001b[38;5;124m\"\u001b[39m)\n",
      "\u001b[0;31mIndexError\u001b[0m: invalid index to scalar variable."
     ]
    }
   ],
   "source": [
    "# perform Richardson extrapolation to determine zero-noise limit \n",
    "# of expectation value of interest:\n",
    "\n",
    "# Evaluate noise-scaled expectation values\n",
    "noisy_expectation_values = executor(folded_circuits, dev=dev_noisy)\n",
    "\n",
    "# Initialize extrapolation method\n",
    "fac = RichardsonFactory(scale_factors)\n",
    "\n",
    "# Load data into extrapolation factory\n",
    "for x, y in zip(scale_factors, noisy_expectation_values):\n",
    "    fac.push({\"scale_factor\": x}, y)\n",
    "\n",
    "# Run extrapolation\n",
    "zero_noise = fac.reduce()\n",
    "\n",
    "print(f\"ZNE result: {zero_noise[0]}\")"
   ]
  },
  {
   "cell_type": "code",
   "execution_count": null,
   "id": "e8886c18",
   "metadata": {},
   "outputs": [],
   "source": [
    "#I could not figure out why I am getting invalid index."
   ]
  },
  {
   "cell_type": "code",
   "execution_count": 55,
   "id": "b6972586-2be8-4ee6-923a-733b2e960b7f",
   "metadata": {},
   "outputs": [
    {
     "data": {
      "image/png": "[encoded data removed]",
      "text/plain": [
       "<Figure size 700x500 with 1 Axes>"
      ]
     },
     "metadata": {},
     "output_type": "display_data"
    }
   ],
   "source": [
    "_ = fac.plot_fit()"
   ]
  },
  {
   "cell_type": "code",
   "execution_count": 56,
   "id": "c876b41f-bcc9-4bfb-8235-bb932b01d035",
   "metadata": {},
   "outputs": [
    {
     "data": {
      "text/plain": [
       "0.9598499999999969"
      ]
     },
     "execution_count": 56,
     "metadata": {},
     "output_type": "execute_result"
    }
   ],
   "source": [
    "# add zero-point extrapolation to exp. value measurement via decorator:\n",
    "from mitiq.zne.scaling import fold_gates_at_random as folding\n",
    "\n",
    "extrapolate = RichardsonFactory.extrapolate\n",
    "\n",
    "@mitigate_with_zne(scale_factors, folding, extrapolate, reps_per_factor=100)\n",
    "@qml.qnode(dev_noisy)\n",
    "def mitigated_qnode(w1, w2):\n",
    "    template(w1, w2, wires=range(n_wires))\n",
    "    qml.adjoint(template)(w1, w2, wires=range(n_wires))\n",
    "    return qml.expval(qml.PauliZ(0))\n",
    "\n",
    "mitigated_qnode(w1, w2)"
   ]
  },
  {
   "cell_type": "code",
   "execution_count": null,
   "id": "eed0b59f",
   "metadata": {},
   "outputs": [],
   "source": [
    "#for n_layer = 2, I got more bent exponential curve whereas for n_layer = 3, I got a less bent exponential curve."
   ]
  },
  {
   "cell_type": "code",
   "execution_count": 57,
   "id": "ab5cc318-4f02-417c-bc07-ace5197239e4",
   "metadata": {},
   "outputs": [
    {
     "name": "stdout",
     "output_type": "stream",
     "text": [
      "0: ──RY(4.56)─╭●──RY(5.93)──────────────╭●──RY(4.23)──────────────╭●──RY(2.59)\n",
      "1: ──RY(3.60)─╰Z──RY(5.90)─╭●──RY(5.18)─╰Z──RY(2.79)─╭●──RY(5.59)─╰Z──RY(0.98)\n",
      "2: ──RY(4.05)─╭●──RY(3.32)─╰Z──RY(1.07)─╭●──RY(3.64)─╰Z──RY(3.02)─╭●──RY(5.44)\n",
      "3: ──RY(3.51)─╰Z──RY(3.66)──────────────╰Z──RY(0.15)──────────────╰Z──RY(2.93)\n",
      "\n",
      "───RY(-2.59)───────────────────────────────────────────────────────────────╭●\n",
      "──╭●──────────RY(6.28)──RY(-6.28)──────────────────────╭●─╭●─╭●──RY(-0.98)─╰Z\n",
      "──╰Z──────────RY(6.24)──RY(-6.24)──RY(6.24)──RY(-6.24)─╰Z─╰Z─╰Z──RY(-5.44)─╭●\n",
      "───RY(-2.93)───────────────────────────────────────────────────────────────╰Z\n",
      "\n",
      "───RY(-4.23)───────────────╭●──RY(-5.93)───────────────╭●──RY(-4.56)──RY(4.56)\n",
      "───RY(-5.59)─╭●──RY(-2.79)─╰Z──RY(-5.18)─╭●──RY(-5.90)─╰Z──RY(-3.60)──────────\n",
      "───RY(-3.02)─╰Z──RY(-3.64)─╭●──RY(-1.07)─╰Z──RY(-3.32)─╭●──RY(-4.05)──────────\n",
      "───RY(-0.15)───────────────╰Z──RY(-3.66)───────────────╰Z──RY(-3.51)──────────\n",
      "\n",
      "───RY(-4.56)─┤  \n",
      "─────────────┤  \n",
      "─────────────┤  \n",
      "─────────────┤  \n",
      "0: ──RY(4.56)─╭●──RY(5.93)───────────────────────────────────╭●──RY(4.23)───\n",
      "1: ──RY(3.60)─╰Z──RY(5.90)─╭●──RY(5.18)──RY(-5.18)──RY(5.18)─╰Z──RY(2.79)─╭●\n",
      "2: ──RY(4.05)─╭●──RY(3.32)─╰Z──RY(1.07)──RY(-1.07)──RY(1.07)─╭●──RY(3.64)─╰Z\n",
      "3: ──RY(3.51)─╰Z──RY(3.66)───────────────────────────────────╰Z──RY(0.15)───\n",
      "\n",
      "────────────╭●──RY(2.59)──RY(-2.59)────────────────────────────────────╭●\n",
      "───RY(5.59)─╰Z──RY(0.98)─╭●──────────RY(6.28)──RY(-6.28)─╭●──RY(-0.98)─╰Z\n",
      "───RY(3.02)─╭●──RY(5.44)─╰Z──────────RY(6.24)──RY(-6.24)─╰Z──RY(-5.44)─╭●\n",
      "────────────╰Z──RY(2.93)──RY(-2.93)────────────────────────────────────╰Z\n",
      "\n",
      "───RY(-4.23)───────────────╭●──RY(-5.93)─────────────────────╭●──RY(-4.56)─┤  \n",
      "───RY(-5.59)─╭●──RY(-2.79)─╰Z──RY(-5.18)─╭●─╭●─╭●──RY(-5.90)─╰Z──RY(-3.60)─┤  \n",
      "───RY(-3.02)─╰Z──RY(-3.64)─╭●──RY(-1.07)─╰Z─╰Z─╰Z──RY(-3.32)─╭●──RY(-4.05)─┤  \n",
      "───RY(-0.15)───────────────╰Z──RY(-3.66)─────────────────────╰Z──RY(-3.51)─┤  \n",
      "0: ──RY(4.56)─╭●──RY(5.93)──────────────╭●──RY(4.23)────────────────────────\n",
      "1: ──RY(3.60)─╰Z──RY(5.90)─╭●──RY(5.18)─╰Z──RY(2.79)─╭●──RY(5.59)──RY(-5.59)\n",
      "2: ──RY(4.05)─╭●──RY(3.32)─╰Z──RY(1.07)─╭●──RY(3.64)─╰Z──RY(3.02)─╭●────────\n",
      "3: ──RY(3.51)─╰Z──RY(3.66)──────────────╰Z──RY(0.15)──────────────╰Z────────\n",
      "\n",
      "────────────╭●──────────RY(2.59)──RY(-2.59)───────────────────────────────────\n",
      "───RY(5.59)─╰Z──────────RY(0.98)─╭●──────────RY(6.28)──RY(-6.28)─╭●──RY(-0.98)\n",
      "───RY(5.44)──────────────────────╰Z──────────RY(6.24)──RY(-6.24)─╰Z──RY(-5.44)\n",
      "───RY(2.93)──RY(-2.93)────────────────────────────────────────────────────────\n",
      "\n",
      "──╭●──RY(-4.23)───────────────╭●──RY(-5.93)───────────────────────────────────\n",
      "──╰Z──RY(-5.59)─╭●──RY(-2.79)─╰Z──RY(-5.18)──RY(5.18)──RY(-5.18)─╭●──RY(-5.90)\n",
      "──╭●──RY(-3.02)─╰Z──RY(-3.64)─╭●──RY(-1.07)──────────────────────╰Z──RY(-3.32)\n",
      "──╰Z──RY(-0.15)───────────────╰Z──RY(-3.66)───────────────────────────────────\n",
      "\n",
      "──╭●──RY(-4.56)──────────────────────┤  \n",
      "──╰Z──RY(-3.60)──RY(3.60)──RY(-3.60)─┤  \n",
      "──╭●──RY(-4.05)──────────────────────┤  \n",
      "──╰Z──RY(-3.51)──────────────────────┤  \n"
     ]
    }
   ],
   "source": [
    "# stochastic folding function with randomly-selected gates using a scale factor == 1.1:\n",
    "for _ in range(3):\n",
    "    print(qml.drawer.tape_text(folding(circuit, scale_factor=1.1), decimals=2, max_length=80))"
   ]
  },
  {
   "cell_type": "code",
   "execution_count": 59,
   "id": "9d662587-da0f-4b61-a69d-0f95dadb31ba",
   "metadata": {},
   "outputs": [
    {
     "data": {
      "text/plain": [
       "1.0078648215460977"
      ]
     },
     "execution_count": 59,
     "metadata": {},
     "output_type": "execute_result"
    }
   ],
   "source": [
    "# adaptive approach to zne extrapolation using a sequence of scale factors with AdaExpFactory:\n",
    "from mitiq.zne import execute_with_zne\n",
    "from mitiq.zne.inference import AdaExpFactory\n",
    "\n",
    "factory = AdaExpFactory(steps=20)\n",
    "\n",
    "execute_with_zne(circuit, executor, factory=factory, scale_noise=fold_global)"
   ]
  },
  {
   "cell_type": "markdown",
   "id": "dac2dd9f-13a9-45b1-9858-68ad17b355fd",
   "metadata": {
    "tags": []
   },
   "source": [
    "#### Mitigating noisy circuits in quantum chemistry\n",
    "\n",
    "Calculating the potential energy surface of molecular hydrogen. "
   ]
  },
  {
   "cell_type": "code",
   "execution_count": 60,
   "id": "88b078a1-fb27-485e-8138-bfbb99e068b6",
   "metadata": {},
   "outputs": [
    {
     "name": "stderr",
     "output_type": "stream",
     "text": [
      "/var/folders/01/nndx6y3j2pg4zrjy39pt2mqw0000gn/T/ipykernel_93987/2292160280.py:2: DeprecationWarning: The module 'qiskit.test.mock' is deprecated since Qiskit Terra 0.21.0, and will be removed 3 months or more later. Instead, you should import the desired object directly 'qiskit.providers.fake_provider'.\n",
      "  from qiskit.test.mock import FakeLima\n"
     ]
    }
   ],
   "source": [
    "# upload 'fake' noise data for ibmq_lima device\n",
    "from qiskit.test.mock import FakeLima\n",
    "from qiskit.providers.aer.noise import NoiseModel\n",
    "\n",
    "backend = FakeLima()\n",
    "noise_model = NoiseModel.from_backend(backend)"
   ]
  },
  {
   "cell_type": "code",
   "execution_count": 61,
   "id": "94e4d48e-fdac-42c7-a5b9-969df2579318",
   "metadata": {},
   "outputs": [],
   "source": [
    "n_wires = 4\n",
    "\n",
    "dev_ideal = qml.device(\"default.qubit\", wires=n_wires)\n",
    "dev_noisy = qml.device(\n",
    "    \"qiskit.aer\",\n",
    "    wires=n_wires,\n",
    "    noise_model=noise_model,\n",
    "    optimization_level=0,\n",
    "    shots=10000,\n",
    ")"
   ]
  },
  {
   "cell_type": "code",
   "execution_count": 64,
   "id": "a69326fe-6fb1-4215-9372-ed75779d2727",
   "metadata": {},
   "outputs": [],
   "source": [
    "# import sys\n",
    "# sys.path.append(\"/home/orquestra/qc_seminar_4/\")\n",
    "# params = np.load(\"/home/orquestra/qc_seminar_4/params.npy\")\n",
    "params = np.array([1.28818974, 0.63447815, 0.15141406, 0.19522786, 0.24828548,\n",
    "       0.31181026, 0.38728731, 0.47580621, 0.57683907, 0.68730219])"
   ]
  },
  {
   "cell_type": "code",
   "execution_count": 63,
   "id": "59e4eba4-873c-4ea5-bf0f-71bfb184eade",
   "metadata": {},
   "outputs": [],
   "source": [
    "# Describe quantum chemistry problem\n",
    "\n",
    "# ground-state energy of hydrogen molecule:\n",
    "from pennylane import qchem\n",
    "\n",
    "symbols = [\"H\", \"H\"]\n",
    "distances = np.arange(0.5, 3.0, 0.25)\n",
    "\n",
    "ideal_energies = []\n",
    "noisy_energies = []\n",
    "\n",
    "for r, phi in zip(distances, params):\n",
    "    # Assume atoms lie on the Z axis\n",
    "    coordinates = np.array([0.0, 0.0, 0.0, 0.0, 0.0, r])\n",
    "\n",
    "    # Load qubit Hamiltonian\n",
    "    H, _ = qchem.molecular_hamiltonian(symbols, coordinates)\n",
    "\n",
    "    # Define ansatz circuit\n",
    "    def qchem_circuit(phi):\n",
    "        qml.PauliX(wires=0)\n",
    "        qml.PauliX(wires=1)\n",
    "        qml.DoubleExcitation(phi, wires=range(n_wires))\n",
    "        return qml.expval(H)\n",
    "\n",
    "    ideal_energy = qml.QNode(qchem_circuit, dev_ideal)\n",
    "    noisy_energy = qml.QNode(qchem_circuit, dev_noisy)\n",
    "\n",
    "    ideal_energies.append(ideal_energy(phi))\n",
    "    noisy_energies.append(noisy_energy(phi))"
   ]
  },
  {
   "cell_type": "code",
   "execution_count": null,
   "id": "195edb06-137b-4d4e-bf63-5dcb13485236",
   "metadata": {},
   "outputs": [],
   "source": [
    "# error-mitigated version of the potential energy surface:\n",
    "\n",
    "mitig_energies = []\n",
    "\n",
    "for r, phi in zip(distances, params):\n",
    "    # Assume atoms lie on the Z axis\n",
    "    coordinates = np.array([0.0, 0.0, 0.0, 0.0, 0.0, r])\n",
    "\n",
    "    # Load qubit Hamiltonian\n",
    "    H, _ = qchem.molecular_hamiltonian(symbols, coordinates)\n",
    "\n",
    "    # Define ansatz circuit\n",
    "    with qml.tape.QuantumTape() as circuit:\n",
    "        qml.PauliX(wires=0)\n",
    "        qml.PauliX(wires=1)\n",
    "        qml.DoubleExcitation(phi, wires=range(n_wires))\n",
    "\n",
    "    # Define custom executor that expands Hamiltonian measurement\n",
    "    # into a linear combination of tensor products of Pauli\n",
    "    # operators.\n",
    "    def executor(circuit):\n",
    "\n",
    "        # Add Hamiltonian measurement to circuit\n",
    "        with qml.tape.QuantumTape() as circuit_with_meas:\n",
    "            for o in circuit.operations:\n",
    "                qml.apply(o)\n",
    "            qml.expval(H)\n",
    "\n",
    "        # Expand Hamiltonian measurement into tensor product of\n",
    "        # of Pauli operators. We get a list of circuits to execute\n",
    "        # and a postprocessing function to combine the results into\n",
    "        # a single number.\n",
    "        circuits, postproc = qml.transforms.hamiltonian_expand(\n",
    "            circuit_with_meas, group=False\n",
    "        )\n",
    "        circuits_executed = qml.execute(circuits, dev_noisy, gradient_fn=None)\n",
    "        return postproc(circuits_executed)\n",
    "\n",
    "    mitig_energy = execute_with_zne(circuit, executor, scale_noise=fold_global)\n",
    "    mitig_energies.append(mitig_energy)"
   ]
  },
  {
   "cell_type": "code",
   "execution_count": 24,
   "id": "49e86d0a-3f7f-4eb4-aeb5-9fce99416ced",
   "metadata": {},
   "outputs": [
    {
     "data": {
      "image/png": "[encoded data removed]",
      "text/plain": [
       "<Figure size 640x480 with 1 Axes>"
      ]
     },
     "metadata": {},
     "output_type": "display_data"
    }
   ],
   "source": [
    "import matplotlib.pyplot as plt\n",
    "\n",
    "plt.plot(ideal_energies, label=\"ideal\")\n",
    "plt.plot(noisy_energies, label=\"noisy\")\n",
    "plt.plot(mitig_energies, label=\"mitigated\")\n",
    "plt.xlabel(\"Bond length (Bohr)\")\n",
    "plt.ylabel(\"Total energy (Hartree)\")\n",
    "plt.legend()\n",
    "plt.show()"
   ]
  },
  {
   "cell_type": "code",
   "execution_count": null,
   "id": "ff60f78b-c7ae-40da-925a-f0caabde5d34",
   "metadata": {},
   "outputs": [],
   "source": []
  }
 ],
 "metadata": {
  "kernelspec": {
   "display_name": "Python 3 (ipykernel)",
   "language": "python",
   "name": "python3"
  },
  "language_info": {
   "codemirror_mode": {
    "name": "ipython",
    "version": 3
   },
   "file_extension": ".py",
   "mimetype": "text/x-python",
   "name": "python",
   "nbconvert_exporter": "python",
   "pygments_lexer": "ipython3",
   "version": "3.11.2"
  }
 },
 "nbformat": 4,
 "nbformat_minor": 5
}
